{
 "cells": [
  {
   "cell_type": "markdown",
   "metadata": {},
   "source": [
    "# Go\n",
    "\n",
    "### Integrantes:\n",
    "- Gabriel Sandoval\n",
    "- Yull Rodriguez\n",
    "- Eladio Tortolero\n",
    "- Marco Vilera"
   ]
  },
  {
   "cell_type": "markdown",
   "metadata": {},
   "source": [
    "Go (también conocido como Golang) es un lenguaje de programación desarrollado por Google. Es conocido por su simplicidad, eficiencia y rendimiento, especialmente en aplicaciones concurrentes y de sistemas."
   ]
  },
  {
   "cell_type": "markdown",
   "metadata": {},
   "source": [
    "## Sintaxis Básica\n",
    "El código en Go se organiza en paquetes (package). El punto de entrada de un programa es la función main dentro del paquete main."
   ]
  },
  {
   "cell_type": "raw",
   "metadata": {},
   "source": [
    "package main\n",
    "\n",
    "import \"fmt\"\n",
    "\n",
    "func main() {\n",
    "    fmt.Println(\"Hola Mundo\")\n",
    "}"
   ]
  },
  {
   "cell_type": "markdown",
   "metadata": {},
   "source": [
    "## Variables\n",
    "En Go, las variables se declaran con la palabra clave var o usando la sintaxis corta :=. Go es un lenguaje de tipado estático, por lo que debes declarar el tipo de la variable o dejar que el compilador lo infiera."
   ]
  },
  {
   "cell_type": "raw",
   "metadata": {},
   "source": [
    "package main\n",
    "\n",
    "import \"fmt\"\n",
    "\n",
    "func main() {\n",
    "    var nombre string = \"Juan\"\n",
    "    edad := 25\n",
    "    altura := 1.75\n",
    "    esEstudiante := true\n",
    "\n",
    "    fmt.Println(nombre, edad, altura, esEstudiante)\n",
    "}"
   ]
  },
  {
   "cell_type": "markdown",
   "metadata": {},
   "source": [
    "## Palabras Reservadas\n",
    "Go tiene un conjunto de palabras reservadas que no pueden ser utilizadas como identificadores. Algunas de estas palabras son:\n",
    "- var, const\n",
    "- func\n",
    "- if, else, switch, case\n",
    "- for, range\n",
    "- return\n",
    "- struct, interface\n",
    "- package, import\n",
    "- go, chan, select\n",
    "- defer, panic, recover"
   ]
  },
  {
   "cell_type": "markdown",
   "metadata": {},
   "source": [
    "## Funciones\n",
    "Las funciones en Go se definen con la palabra clave func. Pueden recibir parámetros y devolver valores."
   ]
  },
  {
   "cell_type": "raw",
   "metadata": {},
   "source": [
    "package main\n",
    "\n",
    "import \"fmt\"\n",
    "\n",
    "func saludar (nombre string) string {\n",
    "    return \"Hola, \" + nombre\n",
    "}\n",
    "\n",
    "func main() {\n",
    "    mensaje := saludar(\"Ana\")\n",
    "    fmt.Println(mensaje) //Salida: Hola, Ana\n",
    "}"
   ]
  },
  {
   "cell_type": "markdown",
   "metadata": {},
   "source": [
    "## Estructuras (Clases)\n",
    "Go no tiene clases como tal, pero usa estructuras (struct) para definir tipos de datos personalizados. Los métodos se definen asociándolos a una estructura."
   ]
  },
  {
   "cell_type": "raw",
   "metadata": {},
   "source": [
    "package main\n",
    "\n",
    "import \"fmt\"\n",
    "\n",
    "//Definir una estructura\n",
    "type Persona struct{\n",
    "    Nombre string\n",
    "    Edad int\n",
    "}\n",
    "\n",
    "//Método asociado a la estructura\n",
    "func (p Persona) Presentarse() string {\n",
    "    return fmt.Sprintf(\"Hola, mi nombre es %s y tengo %d años.\", p.Nombre, p.Edad)\n",
    "}\n",
    "\n",
    "func main() {\n",
    "    //Crear una instancia de la estructura\n",
    "    persona := Persona{Nombre:\"Carlos\", Edad:30}\n",
    "    fmt.Println(persona.Presentarse()) // Salida: Hola, mi nombre es Carlos y tengo 30 años.\n",
    "}"
   ]
  },
  {
   "cell_type": "markdown",
   "metadata": {},
   "source": [
    "## Atributos y Métodos\n",
    "- **Atributos**: Son campos de una estructura. Se accede a ellos usando el operador.\n",
    "- **Métodos**: Son funciones asociadas a una estructura. Se definen con un *\"receptor\"* que especifica la estructura a la que pertenecen."
   ]
  },
  {
   "cell_type": "markdown",
   "metadata": {},
   "source": [
    "# Ejemplo Completo"
   ]
  },
  {
   "cell_type": "raw",
   "metadata": {},
   "source": [
    "package main\n",
    "\n",
    "import \"fmt\"\n",
    "\n",
    "//Definir una estructura\n",
    "type Coche struct{\n",
    "    Marca string\n",
    "    Modelo sring\n",
    "    Color string\n",
    "}\n",
    "\n",
    "//Método asociado a la estructura\n",
    "func (c Coche) GetInfo() string {\n",
    "    return fmt.Sprintf(\"Coche: %s %s, Color: %s\", c.Marca, c.Modelo, c.Color)\n",
    "}\n",
    "\n",
    "func main() {\n",
    "    //Crear una instancia de la estructura\n",
    "    miCoche := Persona{Marca:\"Toyota\", Modelo:\"Corolla\", Color:\"Rojo\"}\n",
    "    fmt.Println(miCoche.GetInfo()) // Salida: Coche: Toyota Corolla, Color: Rojo\n",
    "}"
   ]
  },
  {
   "cell_type": "markdown",
   "metadata": {},
   "source": [
    "## Consideraciones\n",
    "- **Concurrencia:** Go es famoso por su manejo de concurrencia con goroutines y channels.\n",
    "- **Manejo de Errores:** Go no tiene excepciones. En su lugar, se usan valores de retorno para manejar errores.\n",
    "- **Tipado Estático:** Asegúrate de que los tipos de datos sean correctos en tiempo de compilación.\n",
    "- **Simplicidad:** Go promueve un código simple y legible, evitando características complejas."
   ]
  },
  {
   "cell_type": "markdown",
   "metadata": {},
   "source": [
    "## Recursos Adicionales\n",
    "- [Documentación Oficial de Go](https://golang.org/doc/)\n",
    "- [A Tour of Go](https://tour.golang.org)\n",
    "- [Go by Example](https://gobyexample.com)\n",
    "- [Effective Go](https://golang.org/doc/effective_go.html)"
   ]
  },
  {
   "cell_type": "code",
   "execution_count": null,
   "metadata": {},
   "outputs": [],
   "source": []
  }
 ],
 "metadata": {
  "kernelspec": {
   "display_name": "Python 3 (ipykernel)",
   "language": "python",
   "name": "python3"
  },
  "language_info": {
   "codemirror_mode": {
    "name": "ipython",
    "version": 3
   },
   "file_extension": ".py",
   "mimetype": "text/x-python",
   "name": "python",
   "nbconvert_exporter": "python",
   "pygments_lexer": "ipython3",
   "version": "3.13.1"
  }
 },
 "nbformat": 4,
 "nbformat_minor": 4
}
